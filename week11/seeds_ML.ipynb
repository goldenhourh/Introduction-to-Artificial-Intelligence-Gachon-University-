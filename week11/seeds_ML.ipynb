{
 "cells": [
  {
   "cell_type": "code",
   "execution_count": null,
   "id": "f39abb20-831c-432b-a2e8-cc229538f8ad",
   "metadata": {},
   "outputs": [],
   "source": [
    "import pandas as pd\n",
    "import numpy as np\n",
    "import seaborn as sns\n",
    "import matplotlib.pyplot as plt\n",
    "import tensorflow as tf\n",
    "from tensorflow import keras\n",
    "from sklearn.model_selection import train_test_split\n",
    "from sklearn.preprocessing import StandardScaler, LabelEncoder\n",
    "from sklearn.neighbors import KNeighborsClassifier"
   ]
  },
  {
   "cell_type": "code",
   "execution_count": null,
   "id": "09c1eef7-5f36-4753-bffc-ff79cfc625c3",
   "metadata": {},
   "outputs": [],
   "source": [
    "from sklearn.linear_model import LogisticRegression\n",
    "from sklearn.neural_network import MLPClassifier\n",
    "from sklearn.tree import DecisionTreeClassifier\n",
    "from sklearn.ensemble import RandomForestClassifier\n",
    "from sklearn.metrics import accuracy_score, confusion_matrix, classification_report\n",
    "from sklearn.linear_model import LinearRegression\n",
    "from sklearn.metrics import mean_squared_error, r2_score"
   ]
  },
  {
   "cell_type": "code",
   "execution_count": null,
   "id": "f3d1880a-83f2-40e1-bf12-78d38d11c23e",
   "metadata": {},
   "outputs": [],
   "source": [
    "import pandas as pd\n",
    "\n",
    "# 데이터 파일 경로 설정\n",
    "file_path = \"C:/program1/class/seeds/seeds_dataset.txt\"\n",
    "\n",
    "# 데이터 파일 읽기\n",
    "column_names = ['Area', 'Perimeter', 'Compactness', 'Length of kernel', 'Width of kernel', 'Asymmetry coefficient', 'Length of kernel groove', 'Class']\n",
    "df = pd.read_csv(file_path, sep='\\t', header=None, names=column_names)\n",
    "\n",
    "df"
   ]
  },
  {
   "cell_type": "code",
   "execution_count": null,
   "id": "e4222f1f-5c0c-4af8-8cfe-b6626a38e936",
   "metadata": {},
   "outputs": [],
   "source": [
    "# 결측치 확인\n",
    "df.isnull().sum()"
   ]
  },
  {
   "cell_type": "code",
   "execution_count": null,
   "id": "f34f26e3-1e06-4e61-8520-fa92e2c080d5",
   "metadata": {},
   "outputs": [],
   "source": [
    "# 결측치 제거\n",
    "df = df.dropna()\n",
    "df.isnull().sum()"
   ]
  },
  {
   "cell_type": "code",
   "execution_count": null,
   "id": "67265940-b519-4aaa-a856-6c4354748238",
   "metadata": {},
   "outputs": [],
   "source": [
    "# 레이블 갯수 확인 (그래프)\n",
    "sns.countplot(data = df, x=\"Class\")\n",
    "plt.xlabel(\"class\")\n",
    "plt.ylabel(\"Count\")"
   ]
  },
  {
   "cell_type": "code",
   "execution_count": null,
   "id": "af24913a-46a1-4476-ba8f-8b1d84aa00ca",
   "metadata": {},
   "outputs": [],
   "source": [
    "df.columns"
   ]
  },
  {
   "cell_type": "code",
   "execution_count": null,
   "id": "85fcc716-05ca-4872-aa5f-0479cd9da9d3",
   "metadata": {},
   "outputs": [],
   "source": [
    "X=df.drop('Class', axis=1)\n",
    "\n",
    "X.head()\n",
    "# head()는 첫 5행만 출력함."
   ]
  },
  {
   "cell_type": "code",
   "execution_count": null,
   "id": "88d670bb-1433-4de7-bfb8-137e6b7976c8",
   "metadata": {},
   "outputs": [],
   "source": [
    "from sklearn.model_selection import train_test_split\n",
    "\n",
    "X_train, X_test, y_train, y_test = train_test_split(X, y, test_size=0.2, random_state=0)\n",
    "# random_state는 데이터를 무작위로 나누거나 섞을 때 사용되는 난수 발생기의 시드(seed) 값\n",
    "\n",
    "X_train"
   ]
  },
  {
   "cell_type": "code",
   "execution_count": null,
   "id": "ca00b68d-ac10-4d59-bf1a-dabb5eb51718",
   "metadata": {},
   "outputs": [],
   "source": [
    "# Build a decision tree classifier and predict\n",
    "\n",
    "clf_dt = DecisionTreeClassifier(random_state=0)\n",
    "clf_dt.fit(X_train, y_train)\n",
    "\n",
    "pred_dt = clf_dt.predict(X_test)\n",
    "\n",
    "print (\"\\n--- Decision Tree Classifier ---\")\n",
    "print ('Accuracy: {:.5f}'.format(accuracy_score(y_test, pred_dt)))\n",
    "print ('Confusion Matrix:\\n', confusion_matrix(y_test, pred_dt))\n",
    "print('Classification Report:\\n', classification_report(y_test,pred_dt))"
   ]
  },
  {
   "cell_type": "code",
   "execution_count": null,
   "id": "35896ed1-85a2-44e3-8ede-622a10eaa247",
   "metadata": {},
   "outputs": [],
   "source": [
    "# 랜덤 포레스트 분류기 생성 및 학습\n",
    "clf_rf = RandomForestClassifier(n_estimators=100, random_state=0)\n",
    "clf_rf.fit(X_train, y_train)\n",
    "\n",
    "# 테스트 세트로 예측\n",
    "pred_rf = clf_rf.predict(X_test)\n",
    "\n",
    "# 결과 출력\n",
    "print(\"\\n--- Random Forest Classifier ---\")\n",
    "print('Accuracy: {:.5f}'.format(accuracy_score(y_test, pred_rf)))\n",
    "print('Confusion Matrix:\\n', confusion_matrix(y_test, pred_rf))\n",
    "print('Classification Report:\\n', classification_report(y_test, pred_rf))"
   ]
  },
  {
   "cell_type": "code",
   "execution_count": null,
   "id": "6fc9ebbc-e341-4994-9b27-520d0a20cea8",
   "metadata": {},
   "outputs": [],
   "source": [
    "clf_nn = MLPClassifier(random_state=0)\n",
    "clf_nn.fit(X_train, y_train)\n",
    "\n",
    "pred_nn = clf_nn.predict(X_test)\n",
    "\n",
    "print (\"\\n--- Neural Network Classifier ---\")\n",
    "print ('Accuracy: {:.5f}'.format(accuracy_score(y_test, pred_nn)))\n",
    "print ('Confusion Matrix:\\n', confusion_matrix(y_test, pred_nn))\n",
    "print('Classification Report:\\n', classification_report(y_test,pred_nn))"
   ]
  },
  {
   "cell_type": "code",
   "execution_count": null,
   "id": "44740420-1f99-480b-bfd7-374bb3e72fb3",
   "metadata": {},
   "outputs": [],
   "source": [
    "model = LinearRegression()\n",
    "model.fit(X_train, y_train)\n",
    "\n",
    "from sklearn.metrics import mean_squared_error\n",
    "\n",
    "ly_preds = model.predict(X_test)\n",
    "mse = mean_squared_error(ly_preds, y_test)\n",
    "print('평균제곱오차_1', mse)"
   ]
  }
 ],
 "metadata": {
  "kernelspec": {
   "display_name": "python3.7",
   "language": "python",
   "name": "deep"
  },
  "language_info": {
   "codemirror_mode": {
    "name": "ipython",
    "version": 3
   },
   "file_extension": ".py",
   "mimetype": "text/x-python",
   "name": "python",
   "nbconvert_exporter": "python",
   "pygments_lexer": "ipython3",
   "version": "3.7.16"
  }
 },
 "nbformat": 4,
 "nbformat_minor": 5
}
