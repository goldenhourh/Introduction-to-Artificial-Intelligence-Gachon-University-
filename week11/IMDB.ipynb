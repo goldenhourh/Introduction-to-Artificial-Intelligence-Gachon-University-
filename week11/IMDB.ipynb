{
 "cells": [
  {
   "cell_type": "code",
   "execution_count": 1,
   "id": "d50a4562-4866-4ff0-8fb6-020b45694726",
   "metadata": {},
   "outputs": [],
   "source": [
    "import numpy as numpy\n",
    "import tensorflow as tf\n",
    "import matplotlib.pyplot as plt"
   ]
  },
  {
   "cell_type": "code",
   "execution_count": 2,
   "id": "1e097897-28a2-46ac-a478-75f86bd63be6",
   "metadata": {
    "scrolled": true
   },
   "outputs": [
    {
     "ename": "SyntaxError",
     "evalue": "invalid character in identifier (4287408795.py, line 9)",
     "output_type": "error",
     "traceback": [
      "\u001b[1;36m  File \u001b[1;32m\"C:\\Users\\User\\AppData\\Local\\Temp\\ipykernel_15636\\4287408795.py\"\u001b[1;36m, line \u001b[1;32m9\u001b[0m\n\u001b[1;33m    \u001b[0m\n\u001b[1;37m    ^\u001b[0m\n\u001b[1;31mSyntaxError\u001b[0m\u001b[1;31m:\u001b[0m invalid character in identifier\n"
     ]
    }
   ],
   "source": [
    "# 데이터 다운로드\n",
    "(X_train, y_train), (X_test, y_test) = tf.keras.datasets.imdb.load_data( num_words=1000)\n",
    "import requests\n",
    "\n",
    "requests.packages.urllib3.disable_warnings()\n",
    "\n",
    "import ssl\n",
    "\n",
    " \n",
    "\n",
    "try:\n",
    "\n",
    "    _create_unverified_https_context = ssl._create_unverified_context\n",
    "\n",
    "except AttributeError:\n",
    "\n",
    "   # Legacy Python that doesn't verify HTTPS certificates by default\n",
    "\n",
    "   pass\n",
    "\n",
    "else:\n",
    "\n",
    "    # Handle target environment that doesn't support HTTPS verification\n",
    "\n",
    "    ssl._create_default_https_context = _create_unverified_https_context"
   ]
  },
  {
   "cell_type": "code",
   "execution_count": null,
   "id": "eb94ef7b-14d6-488b-bc12-5d35dce5a33e",
   "metadata": {},
   "outputs": [],
   "source": [
    "# 원-핫 인코딩으로 변환하는 함수\n",
    "def one_hot_sequences(sequences, dimension=1000):\n",
    "    results = numpy.zeros((len(sequences), dimension))\n",
    "    for i, word_index in enumerate(sequences):\n",
    "        results[i, word_index] = 1.\n",
    "    return results\n",
    "\n",
    "train_data = one_hot_sequences(train_data)\n",
    "test_data = one_hot_sequences(test_data)"
   ]
  },
  {
   "cell_type": "code",
   "execution_count": null,
   "id": "9339fbe5-da58-4b18-97e6-09d321c0fc1c",
   "metadata": {},
   "outputs": [],
   "source": [
    "# 신경망 모델 구축\n",
    "model = tf.keras.Sequential()\n",
    "model.add(tf.keras.layers.Dense(16, activation='relu', input_shape=(1000,)))\n",
    "model.add(tf.keras.layers.Dense(16, activation='relu'))\n",
    "model.add(tf.keras.layers.Dense(1, activation='sigmoid'))\n",
    "\n",
    "model.compile(loss='binary_crossentropy', optimizer='adam',\n",
    "                  metrics=['accuracy'])"
   ]
  },
  {
   "cell_type": "code",
   "execution_count": null,
   "id": "1bbbcda2-a848-43f4-a482-0b537150e1cd",
   "metadata": {},
   "outputs": [],
   "source": [
    "# 신경망 훈련, 검증 데이터 전달\n",
    "history = model.fit(train_data,\n",
    "                    train_labels,\n",
    "                    epochs=20,\n",
    "                    batch_size=512,\n",
    "                    validation_data=(test_data, test_labels),\n",
    "                    verbose=2)"
   ]
  },
  {
   "cell_type": "code",
   "execution_count": null,
   "id": "8c88d8a4-bbf2-44f7-b783-db6a2bd384c0",
   "metadata": {},
   "outputs": [],
   "source": [
    "# 훈련 데이터의 손실값과 검증 데이터의 손실값을 그래프에 출력\n",
    "history_dict = history.history\n",
    "loss_values = history_dict['loss']\t\t# 훈련 데이터 손실값\n",
    "val_loss_values = history_dict['val_loss']\t# 검증 데이터 손실값\n",
    "acc = history_dict['accuracy']\t\t\t# 정확도\n",
    "epochs = range(1, len(acc) + 1)\t\t# 에포크 수\n",
    "plt.plot(history.history['loss'])\n",
    "plt.plot(history.history['val_loss'])\n",
    "plt.title('Loss Plot')\n",
    "plt.ylabel('loss')\n",
    "plt.xlabel('epochs')\n",
    "plt.legend(['train error', 'val error'], loc='upper left')\n",
    "plt.show()"
   ]
  }
 ],
 "metadata": {
  "kernelspec": {
   "display_name": "python3.7",
   "language": "python",
   "name": "deep"
  },
  "language_info": {
   "codemirror_mode": {
    "name": "ipython",
    "version": 3
   },
   "file_extension": ".py",
   "mimetype": "text/x-python",
   "name": "python",
   "nbconvert_exporter": "python",
   "pygments_lexer": "ipython3",
   "version": "3.7.16"
  }
 },
 "nbformat": 4,
 "nbformat_minor": 5
}
