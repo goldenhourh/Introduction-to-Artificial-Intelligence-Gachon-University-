{
 "cells": [
  {
   "cell_type": "code",
   "execution_count": null,
   "id": "465ef5d5-84f8-436b-af5d-27257dbed485",
   "metadata": {},
   "outputs": [],
   "source": [
    "import pandas as pd\n",
    "import numpy as np\n",
    "import seaborn as sns\n",
    "import matplotlib.pyplot as plt\n",
    "import tensorflow as tf\n",
    "from tensorflow import keras\n",
    "from sklearn.model_selection import train_test_split\n",
    "from sklearn.preprocessing import StandardScaler, LabelEncoder\n",
    "from sklearn.neighbors import KNeighborsClassifier\n",
    "\n",
    "df = pd.read_csv(\"C:\\\\program1\\\\class\\\\PAMAP_features.csv\", index_col=0)\n",
    "df"
   ]
  },
  {
   "cell_type": "code",
   "execution_count": null,
   "id": "4848920b-58d0-4bcd-b996-a92ab963aa41",
   "metadata": {},
   "outputs": [],
   "source": [
    "from sklearn.preprocessing import StandardScaler, LabelEncoder\n",
    "# LabelEncoder 객체 생성\n",
    "label = LabelEncoder()\n",
    "\n",
    "#LabelEncoder를 적용하여 변환\n",
    "df['sub_id'] = label.fit_transform(df['sub_id'])\n",
    "df['activity_id'] = label.fit_transform(df['activity_id'])\n",
    "df['act_level'] = label.fit_transform(df['act_level'])\n",
    "\n",
    "df"
   ]
  },
  {
   "cell_type": "code",
   "execution_count": null,
   "id": "387a7a4b-05f0-4069-8a9a-31c43346619f",
   "metadata": {},
   "outputs": [],
   "source": [
    "# 레이블 갯수 확인 (그래프)\n",
    "sns.countplot(data = df, x=\"sub_id\")\n",
    "plt.xlabel(\"Sub ID\")\n",
    "plt.title(\"PAMAP\")"
   ]
  },
  {
   "cell_type": "code",
   "execution_count": null,
   "id": "8abbda00-0bbd-4e51-a3f0-8e2dace2d675",
   "metadata": {},
   "outputs": [],
   "source": [
    "df['sub_id'].value_counts()"
   ]
  },
  {
   "cell_type": "code",
   "execution_count": null,
   "id": "7fc62002-7205-4394-a6d8-fabf203cda96",
   "metadata": {},
   "outputs": [],
   "source": [
    "# 레이블 갯수 확인 (그래프)\n",
    "sns.countplot(data = df, x=\"activity_id\")\n",
    "plt.xlabel(\"Activity ID\")\n",
    "plt.title(\"PAMAP\")"
   ]
  },
  {
   "cell_type": "code",
   "execution_count": null,
   "id": "4cdcb282-eae1-487a-9113-2a425574a2ff",
   "metadata": {},
   "outputs": [],
   "source": [
    "# 레이블 갯수 확인 (그래프)\n",
    "sns.countplot(data = df, x=\"act_level\")\n",
    "plt.xlabel(\"act_level\")\n",
    "plt.ylabel(\"Count\")\n",
    "plt.title(\"act_level\")"
   ]
  },
  {
   "cell_type": "code",
   "execution_count": null,
   "id": "264a45ce-b39d-4372-bbc4-ea9e08d27efe",
   "metadata": {},
   "outputs": [],
   "source": [
    "df['activity_id'].value_counts()"
   ]
  },
  {
   "cell_type": "code",
   "execution_count": null,
   "id": "fe9fd8bb-8dcc-44a0-9195-3df6d7495d50",
   "metadata": {},
   "outputs": [],
   "source": [
    "# 컬렴명 확인\n",
    "df.columns"
   ]
  },
  {
   "cell_type": "code",
   "execution_count": null,
   "id": "7c018957-2c6e-4894-8626-bd253fcec7bf",
   "metadata": {},
   "outputs": [],
   "source": [
    "# 결측치 확인\n",
    "df.isnull().sum()"
   ]
  },
  {
   "cell_type": "code",
   "execution_count": null,
   "id": "f6e3846d-823e-48ce-b4a6-3ba01fb7dbbc",
   "metadata": {},
   "outputs": [],
   "source": [
    "# 결측치 제거\n",
    "df = df.dropna()\n",
    "df.isnull().sum()"
   ]
  },
  {
   "cell_type": "code",
   "execution_count": null,
   "id": "4a5e82d3-00aa-4e59-9063-d19227c7dcdb",
   "metadata": {},
   "outputs": [],
   "source": [
    "X = df.drop(['sub_id', 'activity_id'], axis=1)\n",
    "#X= df[['sub_id']]\n",
    "X.head()"
   ]
  },
  {
   "cell_type": "code",
   "execution_count": null,
   "id": "9fb22361-ece7-4938-92d3-c63f53d4d6d3",
   "metadata": {},
   "outputs": [],
   "source": [
    "y=df['act_level']\n",
    "y.value_counts()"
   ]
  },
  {
   "cell_type": "code",
   "execution_count": null,
   "id": "029d02bf-a54b-4f6a-a58e-146b09061abe",
   "metadata": {},
   "outputs": [],
   "source": [
    "from sklearn.model_selection import train_test_split\n",
    "\n",
    "X_train, X_test, y_train, y_test = train_test_split(X, y, test_size=0.2, random_state=0)\n",
    "# random_state는 데이터를 무작위로 나누거나 섞을 때 사용되는 난수 발생기의 시드(seed) 값\n",
    "X_train"
   ]
  },
  {
   "cell_type": "code",
   "execution_count": null,
   "id": "5adbb530-4483-499f-80b5-8be3325dc541",
   "metadata": {},
   "outputs": [],
   "source": [
    "y_train"
   ]
  },
  {
   "cell_type": "code",
   "execution_count": null,
   "id": "3a3f4551-9142-4401-95a6-936a409f5dcf",
   "metadata": {},
   "outputs": [],
   "source": [
    "from sklearn.linear_model import LogisticRegression\n",
    "from sklearn.svm import SVC\n",
    "from sklearn.neural_network import MLPClassifier\n",
    "from sklearn.tree import DecisionTreeClassifier\n",
    "from sklearn.metrics import accuracy_score\n",
    "from sklearn.metrics import confusion_matrix, classification_report"
   ]
  },
  {
   "cell_type": "code",
   "execution_count": null,
   "id": "aa149a49-6b63-403f-a76a-caac0d1003fe",
   "metadata": {},
   "outputs": [],
   "source": [
    "from sklearn.svm import SVC\n",
    "\n",
    "clf_svm = SVC(random_state=0)\n",
    "clf_svm.fit(X_train, y_train)\n",
    "\n",
    "pred_svm = clf_svm.predict(X_test)\n",
    "\n",
    "print(\"\\n--- SVM Classifier ---\")\n",
    "print('{:.5f}'.format(accuracy_score(y_test, pred_svm)))\n",
    "print(confusion_matrix(y_test, pred_svm))\n",
    "print(classification_report(y_test, pred_svm))"
   ]
  },
  {
   "cell_type": "code",
   "execution_count": null,
   "id": "e2ce65f0-7541-4de6-a99d-b5088df24071",
   "metadata": {},
   "outputs": [],
   "source": [
    "from sklearn.tree import DecisionTreeClassifier\n",
    "\n",
    "# Build a decision tree classifier and predict\n",
    "clf_dt = DecisionTreeClassifier(random_state=0)\n",
    "clf_dt.fit(X_train, y_train)\n",
    "\n",
    "pred_dt = clf_dt.predict(X_test)\n",
    "\n",
    "print (\"\\n--- Decision Tree Classifier ---\")\n",
    "print ('{:.5f}'.format(accuracy_score(y_test, pred_dt)))\n",
    "print (confusion_matrix(y_test, pred_dt))\n",
    "print(classification_report(y_test, pred_dt))"
   ]
  },
  {
   "cell_type": "code",
   "execution_count": null,
   "id": "7aa44730-6a8d-45e3-8fc9-1207a33a02db",
   "metadata": {},
   "outputs": [],
   "source": [
    "from sklearn.neural_network import MLPClassifier\n",
    "\n",
    "clf_nn = MLPClassifier(random_state=0)\n",
    "clf_nn.fit(X_train, y_train)\n",
    "\n",
    "pred_nn = clf_nn.predict(X_test)\n",
    "\n",
    "print (\"\\n--- Neural Network Classifier ---\")\n",
    "print ('{:.5f}'.format(accuracy_score(y_test, pred_nn)))\n",
    "print (confusion_matrix(y_test, pred_nn))\n",
    "print(classification_report(y_test, pred_nn))"
   ]
  }
 ],
 "metadata": {
  "kernelspec": {
   "display_name": "python3.7",
   "language": "python",
   "name": "deep"
  },
  "language_info": {
   "codemirror_mode": {
    "name": "ipython",
    "version": 3
   },
   "file_extension": ".py",
   "mimetype": "text/x-python",
   "name": "python",
   "nbconvert_exporter": "python",
   "pygments_lexer": "ipython3",
   "version": "3.7.16"
  }
 },
 "nbformat": 4,
 "nbformat_minor": 5
}
