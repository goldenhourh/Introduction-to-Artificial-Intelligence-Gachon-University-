{
 "cells": [
  {
   "cell_type": "code",
   "execution_count": null,
   "id": "a274a235-33dd-489f-8d84-2d22c4a7bc47",
   "metadata": {},
   "outputs": [],
   "source": [
    "import pandas as pd\n",
    "import numpy as np\n",
    "import seaborn as sns\n",
    "import matplotlib.pyplot as plt\n",
    "import tensorflow as tf\n",
    "from tensorflow import keras\n",
    "from sklearn.model_selection import train_test_split\n",
    "from sklearn.preprocessing import StandardScaler, LabelEncoder\n",
    "from sklearn.neighbors import KNeighborsClassifier"
   ]
  },
  {
   "cell_type": "code",
   "execution_count": null,
   "id": "b03e6c32-f375-4507-9466-2e2acdf8d12a",
   "metadata": {},
   "outputs": [],
   "source": [
    "from sklearn.linear_model import LogisticRegression\n",
    "from sklearn.svm import SVC\n",
    "from sklearn.neural_network import MLPClassifier\n",
    "from sklearn.tree import DecisionTreeClassifier\n",
    "from sklearn.metrics import accuracy_score, confusion_matrix, classification_report"
   ]
  },
  {
   "cell_type": "code",
   "execution_count": null,
   "id": "06117337-d633-49ea-8a8c-0ec7c61d78c4",
   "metadata": {},
   "outputs": [],
   "source": [
    "df = pd.read_csv(\"C:\\\\program1\\\\class\\\\abalone\\\\abalone.data\", header=None)\n",
    "df.columns = ['Sex', 'Length', 'Diameter', 'Height', 'Whole weight', 'Shucked weight', 'Viscera weight', 'Shell weight', 'Rings']\n",
    "df"
   ]
  },
  {
   "cell_type": "code",
   "execution_count": null,
   "id": "e0e03e73-9f85-42fd-9784-85c586b3dcd6",
   "metadata": {},
   "outputs": [],
   "source": [
    "# 결측치 확인\n",
    "df.isnull().sum()"
   ]
  },
  {
   "cell_type": "code",
   "execution_count": null,
   "id": "dbf945ff-a142-4339-bfaa-643e28a7a077",
   "metadata": {},
   "outputs": [],
   "source": [
    "# 결측치 제거\n",
    "df = df.dropna()\n",
    "df.isnull().sum()"
   ]
  },
  {
   "cell_type": "code",
   "execution_count": null,
   "id": "934185e3-bc09-4489-827e-5fb8b4a5006e",
   "metadata": {},
   "outputs": [],
   "source": [
    "# 레이블 갯수 확인 (그래프)\n",
    "sns.countplot(data = df, x=\"Rings\")\n",
    "plt.xlabel(\"Rings\")\n",
    "plt.ylabel(\"Count\")\n",
    "plt.title(\"Rings of abalone\")"
   ]
  },
  {
   "cell_type": "code",
   "execution_count": null,
   "id": "bdefbfcb-1a3e-43dc-bcfd-49fe910fd637",
   "metadata": {},
   "outputs": [],
   "source": [
    "# 레이블 갯수 확인 (그래프)\n",
    "sns.countplot(data = df, x=\"Sex\")\n",
    "plt.xlabel(\"Sex\")\n",
    "plt.ylabel(\"Count\")\n",
    "plt.title(\"Sex of abalone\")"
   ]
  },
  {
   "cell_type": "code",
   "execution_count": null,
   "id": "8caed56f-8294-49e4-817a-a0e3631245ac",
   "metadata": {},
   "outputs": [],
   "source": [
    "# 레이블 갯수 확인 (숫자)\n",
    "df['Rings'].value_counts()"
   ]
  },
  {
   "cell_type": "code",
   "execution_count": null,
   "id": "d1c8fe57-af0d-4881-b22b-a965c78c2ccd",
   "metadata": {},
   "outputs": [],
   "source": [
    "df.columns"
   ]
  },
  {
   "cell_type": "code",
   "execution_count": null,
   "id": "e92ebd0c-4265-4c12-862a-fedfbbc8fcfb",
   "metadata": {},
   "outputs": [],
   "source": [
    "#레이블을 숫자로 변환\n",
    "from sklearn.preprocessing import StandardScaler, LabelEncoder\n",
    "\n",
    "# LabelEncoder 객체 생성\n",
    "label = LabelEncoder()\n",
    "\n",
    "# 문자로 지정된 열의 데이터에 대해 LabelEncoder를 적용하여 변환\n",
    "df['Sex'] = label.fit_transform(df['Sex'])\n",
    "\n",
    "df"
   ]
  },
  {
   "cell_type": "code",
   "execution_count": null,
   "id": "2320f79d-3b5d-4d15-8bf2-aa6fdbf04e38",
   "metadata": {},
   "outputs": [],
   "source": [
    "df_corr = df[[ 'Length', 'Diameter', 'Height', 'Whole weight', 'Shucked weight', 'Viscera weight', 'Shell weight', 'Rings']]\n",
    "\n",
    "#상관 관계 행렬\n",
    "# 0.3 이상인 경우 상관관계가 있고, 0.7이상이면 아주 높음\n",
    "\n",
    "df_corr=df_corr.corr()\n",
    "\n",
    "#히트맵\n",
    "plt.figure(figsize=(10,10))\n",
    "sns.set(font_scale=0.8)\n",
    "sns.heatmap(df_corr, annot=True, cbar=False)\n",
    "plt.show()\n"
   ]
  },
  {
   "cell_type": "code",
   "execution_count": null,
   "id": "13c9ddf6-5e31-47d8-8677-6050db820055",
   "metadata": {},
   "outputs": [],
   "source": [
    "# Convert RingCount to Age by adding 1.5, accoring to codebook\n",
    "df['Age'] = df['Rings'] + 1.5\n",
    "df.drop('Rings', axis=1, inplace=True)"
   ]
  },
  {
   "cell_type": "code",
   "execution_count": null,
   "id": "64822cf4-db03-41a5-ab63-a079d23bca03",
   "metadata": {},
   "outputs": [],
   "source": [
    "X=df.drop('Sex', axis=1)\n",
    "\n",
    "X.head()\n",
    "# head()는 첫 5행만 출력함."
   ]
  },
  {
   "cell_type": "code",
   "execution_count": null,
   "id": "ef3ac189-35e0-456a-9292-bb4791a1794b",
   "metadata": {},
   "outputs": [],
   "source": [
    "y=df['Sex']\n",
    "y.value_counts()"
   ]
  },
  {
   "cell_type": "code",
   "execution_count": null,
   "id": "cdc57fe0-fc53-4eb0-8364-2f6603aad2c3",
   "metadata": {},
   "outputs": [],
   "source": [
    "df"
   ]
  },
  {
   "cell_type": "code",
   "execution_count": null,
   "id": "b5be43f1-f102-4248-8ddf-01f4bdb1d48b",
   "metadata": {},
   "outputs": [],
   "source": [
    "#one hot encoding 하기\n",
    "\n",
    "y = pd.get_dummies(y).values\n",
    "y"
   ]
  },
  {
   "cell_type": "code",
   "execution_count": null,
   "id": "a116fc60-ddcc-45d9-8fc1-566690e30f83",
   "metadata": {},
   "outputs": [],
   "source": [
    "from sklearn.model_selection import train_test_split\n",
    "\n",
    "X_train, X_test, y_train, y_test = train_test_split(X, y, test_size=0.25, random_state=0)\n",
    "# random_state는 데이터를 무작위로 나누거나 섞을 때 사용되는 난수 발생기의 시드(seed) 값\n",
    "X_train"
   ]
  },
  {
   "cell_type": "code",
   "execution_count": null,
   "id": "534eaa6f-0b9e-4e7d-ac4d-98f20f15d99c",
   "metadata": {},
   "outputs": [],
   "source": [
    "X_train.shape[1]"
   ]
  },
  {
   "cell_type": "code",
   "execution_count": null,
   "id": "2a72956e-0fed-4a9d-92df-4a4b1f294fa2",
   "metadata": {},
   "outputs": [],
   "source": [
    "y_train"
   ]
  },
  {
   "cell_type": "code",
   "execution_count": null,
   "id": "b5093c1d-e74f-4f75-a24d-2ab3645b91d9",
   "metadata": {},
   "outputs": [],
   "source": [
    "from keras.models import Sequential, Model\n",
    "from keras.layers import Dense, Input\n",
    "from keras.optimizers import Adam\n",
    "\n",
    "# Define the input layer\n",
    "inputs = Input(shape=(X_train.shape[1],))\n",
    "\n",
    "# Define the model architecture\n",
    "x = Dense(12, activation='relu')(inputs)\n",
    "x = Dense(15, activation='relu')(x)\n",
    "x = Dense(6, activation='relu')(x)\n",
    "predictions = Dense(3, activation='softmax')(x)\n",
    "\n",
    "# Create the model\n",
    "model = Model(inputs=inputs, outputs=predictions)\n",
    "\n",
    "# Compile the model\n",
    "model.compile(optimizer=Adam(learning_rate=0.02), loss='categorical_crossentropy', metrics=['accuracy'])\n",
    "\n",
    "# Print the model summary\n",
    "model.summary()"
   ]
  },
  {
   "cell_type": "code",
   "execution_count": null,
   "id": "849edd15-d188-4cd6-ace3-9a27f9f0aabd",
   "metadata": {},
   "outputs": [],
   "source": [
    "model_history=model.fit(x=X_train, y=y_train, epochs=50, batch_size=32, validation_data=(X_test, y_test))\n",
    "y_pred = model.predict(X_test)\n",
    "\n",
    "y_test_class = np.argmax(y_test,axis=1) # 배열에서 최댓값을 가지는 원소의 인덱스를 반환하는 함수\n",
    "y_pred_class = np.argmax(y_pred,axis=1)"
   ]
  },
  {
   "cell_type": "code",
   "execution_count": null,
   "id": "36697086-bfbe-446a-9177-766d337d676c",
   "metadata": {},
   "outputs": [],
   "source": [
    "import matplotlib.pyplot as plt\n",
    "import seaborn as sns\n",
    "\n",
    "# 훈련 손실(training loss)과 검증 손실(validation loss) 추출\n",
    "loss = model_history.history['loss']\n",
    "val_loss = model_history.history['val_loss']\n",
    "\n",
    "# 에포크(epoch) 범위 생성\n",
    "epochs = range(1, len(loss) + 1)\n",
    "\n",
    "# 훈련 손실(training loss)과 검증 손실(validation loss) 시각화\n",
    "plt.plot(epochs, loss, 'y', label='Training loss')  # 훈련 손실을 노란색(yellow)으로 플롯\n",
    "plt.plot(epochs, val_loss, 'r', label='Validation loss')  # 검증 손실을 빨간색(red)으로 플롯\n",
    "plt.title('Training and validation loss')  # 그래프 제목 설정\n",
    "plt.xlabel('Epochs')  # x축 레이블 설정\n",
    "plt.ylabel('Loss')  # y축 레이블 설정\n",
    "plt.legend()  # 범례(legend) 표시\n",
    "plt.show()  # 그래프 출력\n"
   ]
  },
  {
   "cell_type": "code",
   "execution_count": null,
   "id": "dd148882-7f69-4fcc-bfd0-d344f103f5ea",
   "metadata": {},
   "outputs": [],
   "source": [
    "acc =model_history.history['accuracy']\n",
    "val_acc =model_history.history['val_accuracy']\n",
    "plt.plot(epochs, acc, 'y', label='Training acc')\n",
    "plt.plot(epochs, val_acc, 'r', label='Validation acc')\n",
    "plt.title('Training and validation accuracy')\n",
    "plt.xlabel('Epochs')\n",
    "plt.ylabel('Accuracy')\n",
    "plt.legend()\n",
    "plt.show()"
   ]
  }
 ],
 "metadata": {
  "kernelspec": {
   "display_name": "python3.7",
   "language": "python",
   "name": "deep"
  },
  "language_info": {
   "codemirror_mode": {
    "name": "ipython",
    "version": 3
   },
   "file_extension": ".py",
   "mimetype": "text/x-python",
   "name": "python",
   "nbconvert_exporter": "python",
   "pygments_lexer": "ipython3",
   "version": "3.7.16"
  }
 },
 "nbformat": 4,
 "nbformat_minor": 5
}
