{
 "cells": [
  {
   "cell_type": "code",
   "execution_count": 10,
   "id": "1b2b7b9b-d1f8-4d2d-b52b-db0e29c73cdc",
   "metadata": {},
   "outputs": [],
   "source": [
    "from sklearn.datasets import load_breast_cancer\n",
    "import pandas as pd\n",
    "import numpy as np\n",
    "import matplotlib.pyplot as plt\n",
    "from sklearn.model_selection import train_test_split\n",
    "from sklearn.preprocessing import StandardScaler, LabelEncoder\n",
    "from sklearn.neighbors import KNeighborsClassifier\n",
    "import seaborn as sns"
   ]
  },
  {
   "cell_type": "code",
   "execution_count": 11,
   "id": "024ff4dc-9bdf-4319-96e4-f49768ed1ff4",
   "metadata": {
    "scrolled": true
   },
   "outputs": [
    {
     "data": {
      "image/png": "[encoded data removed]",
      "text/plain": [
       "<Figure size 640x480 with 1 Axes>"
      ]
     },
     "metadata": {},
     "output_type": "display_data"
    }
   ],
   "source": [
    "import matplotlib.pyplot as plt\n",
    "from sklearn import datasets, metrics\n",
    "from sklearn.model_selection import train_test_split\n",
    "import pandas as pd\n",
    "\n",
    "digits = datasets.load_digits()\n",
    "plt.imshow(digits.images[0], cmap = plt.cm.gray_r, interpolation = 'nearest')\n",
    "n_samples = len(digits.images)\n",
    "data = digits.images.reshape((n_samples, -1))"
   ]
  },
  {
   "cell_type": "code",
   "execution_count": 12,
   "id": "9da54fd1-83e7-4458-b617-8cbde1bb05d5",
   "metadata": {},
   "outputs": [],
   "source": [
    "\n",
    "# split X_train, Y_train, X_test, Y_test\n",
    "\n",
    "X_train, X_test, y_train, y_test = train_test_split(data, digits.target, test_size = 0.2)"
   ]
  },
  {
   "cell_type": "code",
   "execution_count": 13,
   "id": "f36ff0ed-8fc3-4484-bad5-03230e7ccfee",
   "metadata": {},
   "outputs": [],
   "source": [
    "Y_train = pd.get_dummies(y_train).values\n",
    "Y_test = pd.get_dummies(y_test).values"
   ]
  },
  {
   "cell_type": "code",
   "execution_count": 14,
   "id": "67af38cd-3d96-4760-ba1b-c8be7c873e6e",
   "metadata": {},
   "outputs": [
    {
     "data": {
      "text/plain": [
       "64"
      ]
     },
     "execution_count": 14,
     "metadata": {},
     "output_type": "execute_result"
    }
   ],
   "source": [
    "X_train.shape[1]"
   ]
  },
  {
   "cell_type": "code",
   "execution_count": 15,
   "id": "5e0e9e39-9510-4c1e-94a1-04a9551b6c61",
   "metadata": {},
   "outputs": [
    {
     "name": "stdout",
     "output_type": "stream",
     "text": [
      "Model: \"sequential_1\"\n",
      "_________________________________________________________________\n",
      " Layer (type)                Output Shape              Param #   \n",
      "=================================================================\n",
      " dense_4 (Dense)             (None, 128)               8320      \n",
      "                                                                 \n",
      " dense_5 (Dense)             (None, 64)                8256      \n",
      "                                                                 \n",
      " dense_6 (Dense)             (None, 32)                2080      \n",
      "                                                                 \n",
      " dense_7 (Dense)             (None, 10)                330       \n",
      "                                                                 \n",
      "=================================================================\n",
      "Total params: 18,986\n",
      "Trainable params: 18,986\n",
      "Non-trainable params: 0\n",
      "_________________________________________________________________\n"
     ]
    }
   ],
   "source": [
    "#Defining the model \n",
    "\n",
    "from keras.models import Sequential\n",
    "from keras.layers import Dense\n",
    "from keras.optimizers import SGD,Adam\n",
    "\n",
    "\n",
    "model = Sequential()\n",
    "\n",
    "model.add(Dense(128,input_shape=(64,),activation='relu'))\n",
    "model.add(Dense(64,activation='relu'))\n",
    "model.add(Dense(32,activation='relu'))\n",
    "model.add(Dense(10,activation='softmax'))\n",
    "\n",
    "model.compile(Adam(learning_rate=0.01),'categorical_crossentropy',metrics=['accuracy'])\n",
    "\n",
    "model.summary()"
   ]
  },
  {
   "cell_type": "code",
   "execution_count": 16,
   "id": "dc93d36f-d04f-49d4-9b68-e0335a9bd9a0",
   "metadata": {},
   "outputs": [
    {
     "name": "stdout",
     "output_type": "stream",
     "text": [
      "Epoch 1/30\n",
      "45/45 [==============================] - 1s 10ms/step - loss: 1.5704 - accuracy: 0.6110 - val_loss: 0.2922 - val_accuracy: 0.9028\n",
      "Epoch 2/30\n",
      "45/45 [==============================] - 0s 4ms/step - loss: 0.3265 - accuracy: 0.8984 - val_loss: 0.1611 - val_accuracy: 0.9500\n",
      "Epoch 3/30\n",
      "45/45 [==============================] - 0s 4ms/step - loss: 0.1651 - accuracy: 0.9527 - val_loss: 0.1412 - val_accuracy: 0.9528\n",
      "Epoch 4/30\n",
      "45/45 [==============================] - 0s 4ms/step - loss: 0.1634 - accuracy: 0.9485 - val_loss: 0.1663 - val_accuracy: 0.9472\n",
      "Epoch 5/30\n",
      "45/45 [==============================] - 0s 4ms/step - loss: 0.1630 - accuracy: 0.9471 - val_loss: 0.2457 - val_accuracy: 0.9361\n",
      "Epoch 6/30\n",
      "45/45 [==============================] - 0s 4ms/step - loss: 0.1416 - accuracy: 0.9548 - val_loss: 0.1393 - val_accuracy: 0.9611\n",
      "Epoch 7/30\n",
      "45/45 [==============================] - 0s 4ms/step - loss: 0.1092 - accuracy: 0.9638 - val_loss: 0.1073 - val_accuracy: 0.9694\n",
      "Epoch 8/30\n",
      "45/45 [==============================] - 0s 4ms/step - loss: 0.0659 - accuracy: 0.9819 - val_loss: 0.1241 - val_accuracy: 0.9611\n",
      "Epoch 9/30\n",
      "45/45 [==============================] - 0s 4ms/step - loss: 0.0689 - accuracy: 0.9791 - val_loss: 0.1896 - val_accuracy: 0.9556\n",
      "Epoch 10/30\n",
      "45/45 [==============================] - 0s 5ms/step - loss: 0.1275 - accuracy: 0.9631 - val_loss: 0.1302 - val_accuracy: 0.9611\n",
      "Epoch 11/30\n",
      "45/45 [==============================] - 0s 5ms/step - loss: 0.0820 - accuracy: 0.9694 - val_loss: 0.1255 - val_accuracy: 0.9583\n",
      "Epoch 12/30\n",
      "45/45 [==============================] - 0s 6ms/step - loss: 0.0684 - accuracy: 0.9770 - val_loss: 0.1631 - val_accuracy: 0.9472\n",
      "Epoch 13/30\n",
      "45/45 [==============================] - 0s 4ms/step - loss: 0.0284 - accuracy: 0.9903 - val_loss: 0.2303 - val_accuracy: 0.9528\n",
      "Epoch 14/30\n",
      "45/45 [==============================] - 0s 4ms/step - loss: 0.0670 - accuracy: 0.9798 - val_loss: 0.2226 - val_accuracy: 0.9500\n",
      "Epoch 15/30\n",
      "45/45 [==============================] - 0s 4ms/step - loss: 0.0602 - accuracy: 0.9805 - val_loss: 0.2018 - val_accuracy: 0.9611\n",
      "Epoch 16/30\n",
      "45/45 [==============================] - 0s 4ms/step - loss: 0.0623 - accuracy: 0.9812 - val_loss: 0.1298 - val_accuracy: 0.9639\n",
      "Epoch 17/30\n",
      "45/45 [==============================] - 0s 4ms/step - loss: 0.0729 - accuracy: 0.9763 - val_loss: 0.1595 - val_accuracy: 0.9583\n",
      "Epoch 18/30\n",
      "45/45 [==============================] - 0s 4ms/step - loss: 0.0898 - accuracy: 0.9743 - val_loss: 0.0960 - val_accuracy: 0.9694\n",
      "Epoch 19/30\n",
      "45/45 [==============================] - 0s 4ms/step - loss: 0.0804 - accuracy: 0.9784 - val_loss: 0.0647 - val_accuracy: 0.9806\n",
      "Epoch 20/30\n",
      "45/45 [==============================] - 0s 6ms/step - loss: 0.0687 - accuracy: 0.9819 - val_loss: 0.1717 - val_accuracy: 0.9500\n",
      "Epoch 21/30\n",
      "45/45 [==============================] - 0s 4ms/step - loss: 0.0653 - accuracy: 0.9805 - val_loss: 0.0834 - val_accuracy: 0.9778\n",
      "Epoch 22/30\n",
      "45/45 [==============================] - 0s 4ms/step - loss: 0.0826 - accuracy: 0.9791 - val_loss: 0.1762 - val_accuracy: 0.9500\n",
      "Epoch 23/30\n",
      "45/45 [==============================] - 0s 4ms/step - loss: 0.0495 - accuracy: 0.9847 - val_loss: 0.0924 - val_accuracy: 0.9750\n",
      "Epoch 24/30\n",
      "45/45 [==============================] - 0s 4ms/step - loss: 0.0101 - accuracy: 0.9965 - val_loss: 0.1191 - val_accuracy: 0.9750\n",
      "Epoch 25/30\n",
      "45/45 [==============================] - 0s 4ms/step - loss: 0.0066 - accuracy: 0.9986 - val_loss: 0.1460 - val_accuracy: 0.9639\n",
      "Epoch 26/30\n",
      "45/45 [==============================] - 0s 4ms/step - loss: 0.0078 - accuracy: 0.9986 - val_loss: 0.0831 - val_accuracy: 0.9750\n",
      "Epoch 27/30\n",
      "45/45 [==============================] - 0s 4ms/step - loss: 0.0382 - accuracy: 0.9889 - val_loss: 0.1220 - val_accuracy: 0.9667\n",
      "Epoch 28/30\n",
      "45/45 [==============================] - 0s 4ms/step - loss: 0.0365 - accuracy: 0.9882 - val_loss: 0.0858 - val_accuracy: 0.9722\n",
      "Epoch 29/30\n",
      "45/45 [==============================] - 0s 4ms/step - loss: 0.0458 - accuracy: 0.9882 - val_loss: 0.1852 - val_accuracy: 0.9694\n",
      "Epoch 30/30\n",
      "45/45 [==============================] - 0s 4ms/step - loss: 0.1418 - accuracy: 0.9715 - val_loss: 0.2367 - val_accuracy: 0.9444\n",
      "12/12 [==============================] - 0s 3ms/step\n"
     ]
    }
   ],
   "source": [
    "import numpy as np\n",
    "\n",
    "model_history=model.fit(x=X_train, y=Y_train, epochs=30, batch_size=32,validation_data= (X_test,Y_test))\n",
    "y_pred = model.predict(X_test)"
   ]
  },
  {
   "cell_type": "code",
   "execution_count": 17,
   "id": "aaa2dd00-5467-4626-b037-6916a94815da",
   "metadata": {},
   "outputs": [],
   "source": [
    "# 확률에 가장 가까운 정수로 class를 예측\n",
    "y_pred_class = np.argmax(y_pred,axis=1)\n",
    "\n",
    "# y_pred_class one-hot-encoding\n",
    "Y_pred_class = pd.get_dummies(y_pred_class).values"
   ]
  },
  {
   "cell_type": "code",
   "execution_count": 18,
   "id": "8a55a5d3-c097-4573-aa49-9d4ac0f707f6",
   "metadata": {},
   "outputs": [
    {
     "name": "stdout",
     "output_type": "stream",
     "text": [
      "0.9444444444444444\n"
     ]
    }
   ],
   "source": [
    "# 정확도 계산\n",
    "scores = metrics.accuracy_score(Y_test, Y_pred_class)\n",
    "print(scores)"
   ]
  }
 ],
 "metadata": {
  "kernelspec": {
   "display_name": "python3.7",
   "language": "python",
   "name": "deep"
  },
  "language_info": {
   "codemirror_mode": {
    "name": "ipython",
    "version": 3
   },
   "file_extension": ".py",
   "mimetype": "text/x-python",
   "name": "python",
   "nbconvert_exporter": "python",
   "pygments_lexer": "ipython3",
   "version": "3.7.16"
  }
 },
 "nbformat": 4,
 "nbformat_minor": 5
}
